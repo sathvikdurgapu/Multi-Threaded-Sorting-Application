{
  "nbformat": 4,
  "nbformat_minor": 0,
  "metadata": {
    "colab": {
      "name": "Multi-Threaded-Sorting-Application.ipynb",
      "provenance": [],
      "collapsed_sections": [],
      "include_colab_link": true
    },
    "kernelspec": {
      "display_name": "Python 3",
      "name": "python3"
    },
    "language_info": {
      "name": "python"
    }
  },
  "cells": [
    {
      "cell_type": "markdown",
      "metadata": {
        "id": "view-in-github",
        "colab_type": "text"
      },
      "source": [
        "<a href=\"https://colab.research.google.com/github/sathvikdurgapu/Multi-Threaded-Sorting-Application/blob/main/Multi_Threaded_Sorting_Application.ipynb\" target=\"_parent\"><img src=\"https://colab.research.google.com/assets/colab-badge.svg\" alt=\"Open In Colab\"/></a>"
      ]
    },
    {
      "cell_type": "code",
      "source": [
        "import random\n",
        "import time\n",
        "import threading\n",
        "\n",
        "\n",
        "def merge_sort(input_array, result):\n",
        "    print(\"{} is sorting {} numbers\".format(threading.current_thread().getName(), len(input_array)))\n",
        "    result.append(merge_sort_helper(input_array))\n",
        "\n",
        "\n",
        "def merge_sort_helper(input_array):\n",
        "    time.sleep(0.001)\n",
        "    if len(input_array) > 1:\n",
        "        mid = len(input_array) // 2\n",
        "        left_arr = input_array[:mid]\n",
        "        right_arr = input_array[mid:]\n",
        "\n",
        "        return merge_sorted_arrays(\n",
        "            merge_sort_helper(left_arr),\n",
        "            merge_sort_helper(right_arr)\n",
        "        )\n",
        "    return input_array\n",
        "\n",
        "\n",
        "def merge_sorted_arrays(left_arr, right_arr, result=[]):\n",
        "    i, j = 0, 0\n",
        "    merge_arr = []\n",
        "\n",
        "    while i < len(left_arr) and j < len(right_arr):\n",
        "        if left_arr[i] < right_arr[j]:\n",
        "            merge_arr.append(left_arr[i])\n",
        "            i = i + 1\n",
        "        else:\n",
        "            merge_arr.append(right_arr[j])\n",
        "            j = j + 1\n",
        "\n",
        "    merge_arr += left_arr[i:] or right_arr[j:]\n",
        "    result.append(merge_arr)\n",
        "    return merge_arr\n",
        "\n",
        "\n",
        "def single_threaded_merge_sort(data):\n",
        "    print(\"Sorting for {} numbers\".format(len(data)))\n",
        "    start = time.time()\n",
        "    result = []\n",
        "    merge_sort(data, result)\n",
        "    end = time.time()\n",
        "    print(\"Single Threading\")\n",
        "    print(\"Time to execute {} secs \".format(end - start))\n",
        "    print(\"Sorted array: \", result[0])\n",
        "    print(\"===================================\")\n",
        "\n",
        "\n",
        "def multi_threaded_merge_sort(data):\n",
        "    # threaded merge sort\n",
        "    print(\"Sorting for {} numbers\".format(len(data)))\n",
        "    mid = len(data) // 2\n",
        "    result = []\n",
        "    start = time.time()\n",
        "    sorting_thread_1 = threading.Thread(name=\"sorting_thread_1\",\n",
        "                                        target=merge_sort,\n",
        "                                        args=(data[:mid], result,))\n",
        "    sorting_thread_2 = threading.Thread(name=\"sorting_thread_2\",\n",
        "                                        target=merge_sort,\n",
        "                                        args=(data[mid:], result,))\n",
        "\n",
        "    sorting_thread_1.start()\n",
        "    sorting_thread_2.start()\n",
        "\n",
        "    # print(\"Active thread count after starting sorting threads:\", threading.active_count())\n",
        "\n",
        "    # wait until both sorting threads are complete\n",
        "    sorting_thread_1.join()\n",
        "    sorting_thread_2.join()\n",
        "\n",
        "    final_sorted_array = []\n",
        "    merging_thread = threading.Thread(name=\"merging_thread\",\n",
        "                                      target=merge_sorted_arrays,\n",
        "                                      args=(result[0], result[1], final_sorted_array,))\n",
        "    merging_thread.start()\n",
        "\n",
        "    end = time.time()\n",
        "    merging_thread.join()\n",
        "    print(\"Multi Threading\")\n",
        "    print(\"Time to execute {} secs \".format(end - start))\n",
        "    print(\"Thread1: \",result[0])\n",
        "    print(\"Thread2: \",result[1])\n",
        "    print(\"Sorted array: \", final_sorted_array[0])\n",
        "    print(\"===================================\")\n",
        "\n",
        "\n",
        "if __name__ == \"__main__\":\n",
        "    arr_length = 50\n",
        "    data_set = [random.randint(0, 50000) for _ in range(arr_length)]\n",
        "    print(\"Input array: \", data_set)\n",
        "    single_threaded_merge_sort(data_set)\n",
        "    multi_threaded_merge_sort(data_set)"
      ],
      "metadata": {
        "colab": {
          "base_uri": "https://localhost:8080/"
        },
        "id": "PvV0N297fjsb",
        "outputId": "69acd681-b767-4883-b454-22a925c9b891"
      },
      "execution_count": 7,
      "outputs": [
        {
          "output_type": "stream",
          "name": "stdout",
          "text": [
            "Input array:  [15967, 16084, 23574, 3179, 32511, 31183, 37068, 31772, 34910, 29835, 48425, 15853, 28204, 7818, 30730, 19789, 5971, 12395, 35918, 34715, 27895, 46699, 14677, 1046, 30055, 1117, 22605, 41590, 27266, 16817, 36290, 47989, 1913, 42472, 15227, 43048, 39615, 21016, 30503, 12001, 807, 23532, 25037, 1281, 7273, 11880, 38447, 5965, 14366, 7060]\n",
            "Sorting for 50 numbers\n",
            "MainThread is sorting 50 numbers\n",
            "Single Threading\n",
            "Time to execute 0.1104283332824707 secs \n",
            "Sorted array:  [807, 1046, 1117, 1281, 1913, 3179, 5965, 5971, 7060, 7273, 7818, 11880, 12001, 12395, 14366, 14677, 15227, 15853, 15967, 16084, 16817, 19789, 21016, 22605, 23532, 23574, 25037, 27266, 27895, 28204, 29835, 30055, 30503, 30730, 31183, 31772, 32511, 34715, 34910, 35918, 36290, 37068, 38447, 39615, 41590, 42472, 43048, 46699, 47989, 48425]\n",
            "===================================\n",
            "Sorting for 50 numbers\n",
            "sorting_thread_1 is sorting 25 numbers\n",
            "sorting_thread_2 is sorting 25 numbers\n",
            "Multi Threading\n",
            "Time to execute 0.05771470069885254 secs \n",
            "Thread1:  [1046, 3179, 5971, 7818, 12395, 14677, 15853, 15967, 16084, 19789, 23574, 27895, 28204, 29835, 30055, 30730, 31183, 31772, 32511, 34715, 34910, 35918, 37068, 46699, 48425]\n",
            "Thread2:  [807, 1117, 1281, 1913, 5965, 7060, 7273, 11880, 12001, 14366, 15227, 16817, 21016, 22605, 23532, 25037, 27266, 30503, 36290, 38447, 39615, 41590, 42472, 43048, 47989]\n",
            "Sorted array:  [807, 1046, 1117, 1281, 1913, 3179, 5965, 5971, 7060, 7273, 7818, 11880, 12001, 12395, 14366, 14677, 15227, 15853, 15967, 16084, 16817, 19789, 21016, 22605, 23532, 23574, 25037, 27266, 27895, 28204, 29835, 30055, 30503, 30730, 31183, 31772, 32511, 34715, 34910, 35918, 36290, 37068, 38447, 39615, 41590, 42472, 43048, 46699, 47989, 48425]\n",
            "===================================\n"
          ]
        }
      ]
    }
  ]
}