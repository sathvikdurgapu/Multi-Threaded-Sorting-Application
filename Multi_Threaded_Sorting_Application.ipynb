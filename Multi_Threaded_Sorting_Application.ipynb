{
  "nbformat": 4,
  "nbformat_minor": 0,
  "metadata": {
    "colab": {
      "name": "Multi-Threaded-Sorting-Application.ipynb",
      "provenance": [],
      "collapsed_sections": [],
      "include_colab_link": true
    },
    "kernelspec": {
      "display_name": "Python 3",
      "name": "python3"
    },
    "language_info": {
      "name": "python"
    }
  },
  "cells": [
    {
      "cell_type": "markdown",
      "metadata": {
        "id": "view-in-github",
        "colab_type": "text"
      },
      "source": [
        "<a href=\"https://colab.research.google.com/github/sathvikdurgapu/Multi-Threaded-Sorting-Application/blob/main/Multi_Threaded_Sorting_Application.ipynb\" target=\"_parent\"><img src=\"https://colab.research.google.com/assets/colab-badge.svg\" alt=\"Open In Colab\"/></a>"
      ]
    },
    {
      "cell_type": "code",
      "source": [
        "import random\n",
        "import time\n",
        "import threading\n",
        "\n",
        "\n",
        "def merge_sort(input_array, result):\n",
        "    print(\"{} is sorting {} numbers\".format(threading.current_thread().getName(), len(input_array)))\n",
        "    result.append(merge_sort_helper(input_array))\n",
        "\n",
        "\n",
        "def merge_sort_helper(input_array):\n",
        "    time.sleep(0.001)\n",
        "    if len(input_array) > 1:\n",
        "        mid = len(input_array) // 2\n",
        "        left_arr = input_array[:mid]\n",
        "        right_arr = input_array[mid:]\n",
        "\n",
        "        return merge_sorted_arrays(\n",
        "            merge_sort_helper(left_arr),\n",
        "            merge_sort_helper(right_arr)\n",
        "        )\n",
        "    return input_array\n",
        "\n",
        "\n",
        "def merge_sorted_arrays(left_arr, right_arr, result=[]):\n",
        "    i, j = 0, 0\n",
        "    merge_arr = []\n",
        "\n",
        "    while i < len(left_arr) and j < len(right_arr):\n",
        "        if left_arr[i] < right_arr[j]:\n",
        "            merge_arr.append(left_arr[i])\n",
        "            i = i + 1\n",
        "        else:\n",
        "            merge_arr.append(right_arr[j])\n",
        "            j = j + 1\n",
        "\n",
        "    merge_arr += left_arr[i:] or right_arr[j:]\n",
        "    result.append(merge_arr)\n",
        "    return merge_arr\n",
        "\n",
        "\n",
        "def single_threaded_merge_sort(data):\n",
        "    print(\"Sorting for {} numbers\".format(len(data)))\n",
        "    start = time.time()\n",
        "    result = []\n",
        "    merge_sort(data, result)\n",
        "    end = time.time()\n",
        "    print(\"Time to execute {} secs \".format(end - start))\n",
        "    print(\"Sorted array: \", result[0])\n",
        "    print(\"===================================\")\n",
        "\n",
        "\n",
        "def multi_threaded_merge_sort(data):\n",
        "    # threaded merge sort\n",
        "    print(\"Sorting for {} numbers\".format(len(data)))\n",
        "    mid = len(data) // 2\n",
        "    result = []\n",
        "    start = time.time()\n",
        "    sorting_thread_1 = threading.Thread(name=\"sorting_thread_1\",\n",
        "                                        target=merge_sort,\n",
        "                                        args=(data[:mid], result,))\n",
        "    sorting_thread_2 = threading.Thread(name=\"sorting_thread_2\",\n",
        "                                        target=merge_sort,\n",
        "                                        args=(data[mid:], result,))\n",
        "\n",
        "    sorting_thread_1.start()\n",
        "    sorting_thread_2.start()\n",
        "\n",
        "    # print(\"Active thread count after starting sorting threads:\", threading.active_count())\n",
        "\n",
        "    # wait until both sorting threads are complete\n",
        "    sorting_thread_1.join()\n",
        "    sorting_thread_2.join()\n",
        "\n",
        "    final_sorted_array = []\n",
        "    merging_thread = threading.Thread(name=\"merging_thread\",\n",
        "                                      target=merge_sorted_arrays,\n",
        "                                      args=(result[0], result[1], final_sorted_array,))\n",
        "    merging_thread.start()\n",
        "\n",
        "    end = time.time()\n",
        "    merging_thread.join()\n",
        "\n",
        "    print(\"Time to execute {} secs \".format(end - start))\n",
        "    print(\"Sorted array: \", final_sorted_array[0])\n",
        "    print(\"===================================\")\n",
        "\n",
        "\n",
        "if __name__ == \"__main__\":\n",
        "    arr_length = 100\n",
        "    data_set = [random.randint(0, 50000) for _ in range(arr_length)]\n",
        "\n",
        "    print(\"Input array: \", data_set)\n",
        "    single_threaded_merge_sort(data_set)\n",
        "    multi_threaded_merge_sort(data_set)"
      ],
      "metadata": {
        "colab": {
          "base_uri": "https://localhost:8080/"
        },
        "id": "PvV0N297fjsb",
        "outputId": "f327d515-f5b5-462f-d996-ca72a896b910"
      },
      "execution_count": 2,
      "outputs": [
        {
          "output_type": "stream",
          "name": "stdout",
          "text": [
            "Input array:  [19631, 2077, 43612, 5964, 27993, 40832, 22012, 19061, 13753, 6267, 41382, 25658, 9614, 29061, 5228, 23369, 44936, 22745, 30209, 45342, 30178, 40220, 17667, 20533, 28939, 8808, 42039, 36112, 25181, 28866, 47833, 8316, 19380, 4343, 25447, 13733, 5704, 47140, 28100, 18314, 39663, 32147, 35688, 39886, 44668, 28275, 32458, 19359, 44043, 32449, 3311, 35257, 21061, 953, 2900, 48234, 6284, 10460, 10399, 7247, 26866, 35198, 100, 12922, 45188, 6177, 10464, 154, 23445, 33745, 25566, 40141, 7001, 6612, 9704, 18485, 47248, 32884, 19147, 31796, 13945, 48446, 41556, 32093, 14584, 49001, 43495, 35606, 24273, 45958, 29154, 40737, 651, 27582, 47092, 27530, 25330, 20683, 18370, 7805]\n",
            "Sorting for 100 numbers\n",
            "MainThread is sorting 100 numbers\n",
            "Time to execute 0.2231152057647705 secs \n",
            "Sorted array:  [100, 154, 651, 953, 2077, 2900, 3311, 4343, 5228, 5704, 5964, 6177, 6267, 6284, 6612, 7001, 7247, 7805, 8316, 8808, 9614, 9704, 10399, 10460, 10464, 12922, 13733, 13753, 13945, 14584, 17667, 18314, 18370, 18485, 19061, 19147, 19359, 19380, 19631, 20533, 20683, 21061, 22012, 22745, 23369, 23445, 24273, 25181, 25330, 25447, 25566, 25658, 26866, 27530, 27582, 27993, 28100, 28275, 28866, 28939, 29061, 29154, 30178, 30209, 31796, 32093, 32147, 32449, 32458, 32884, 33745, 35198, 35257, 35606, 35688, 36112, 39663, 39886, 40141, 40220, 40737, 40832, 41382, 41556, 42039, 43495, 43612, 44043, 44668, 44936, 45188, 45342, 45958, 47092, 47140, 47248, 47833, 48234, 48446, 49001]\n",
            "===================================\n",
            "Sorting for 100 numbers\n",
            "sorting_thread_1 is sorting 50 numbers\n",
            "sorting_thread_2 is sorting 50 numbers\n",
            "Time to execute 0.11430883407592773 secs \n",
            "Sorted array:  [100, 154, 651, 953, 2077, 2900, 3311, 4343, 5228, 5704, 5964, 6177, 6267, 6284, 6612, 7001, 7247, 7805, 8316, 8808, 9614, 9704, 10399, 10460, 10464, 12922, 13733, 13753, 13945, 14584, 17667, 18314, 18370, 18485, 19061, 19147, 19359, 19380, 19631, 20533, 20683, 21061, 22012, 22745, 23369, 23445, 24273, 25181, 25330, 25447, 25566, 25658, 26866, 27530, 27582, 27993, 28100, 28275, 28866, 28939, 29061, 29154, 30178, 30209, 31796, 32093, 32147, 32449, 32458, 32884, 33745, 35198, 35257, 35606, 35688, 36112, 39663, 39886, 40141, 40220, 40737, 40832, 41382, 41556, 42039, 43495, 43612, 44043, 44668, 44936, 45188, 45342, 45958, 47092, 47140, 47248, 47833, 48234, 48446, 49001]\n",
            "===================================\n"
          ]
        }
      ]
    }
  ]
}